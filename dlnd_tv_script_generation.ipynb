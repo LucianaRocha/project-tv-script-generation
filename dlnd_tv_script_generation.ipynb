{
  "nbformat": 4,
  "nbformat_minor": 0,
  "metadata": {
    "colab": {
      "name": "dlnd_tv_script_generation.ipynb",
      "version": "0.3.2",
      "provenance": [],
      "collapsed_sections": [],
      "toc_visible": true
    },
    "kernelspec": {
      "name": "python3",
      "display_name": "Python 3"
    },
    "accelerator": "GPU"
  },
  "cells": [
    {
      "metadata": {
        "id": "NAnKaPo30WdX",
        "colab_type": "text"
      },
      "cell_type": "markdown",
      "source": [
        "# TV Script Generation\n",
        "\n",
        "In this project, you'll generate your own [Seinfeld](https://en.wikipedia.org/wiki/Seinfeld) TV scripts using RNNs.  You'll be using part of the [Seinfeld dataset](https://www.kaggle.com/thec03u5/seinfeld-chronicles#scripts.csv) of scripts from 9 seasons.  The Neural Network you'll build will generate a new ,\"fake\" TV script, based on patterns it recognizes in this training data.\n",
        "\n",
        "## Get the Data\n",
        "\n",
        "The data is already provided for you in `./data/Seinfeld_Scripts.txt` and you're encouraged to open that file and look at the text. \n",
        ">* As a first step, we'll load in this data and look at some samples. \n",
        "* Then, you'll be tasked with defining and training an RNN to generate a new script!"
      ]
    },
    {
      "metadata": {
        "id": "dPOYsAyybprY",
        "colab_type": "code",
        "colab": {}
      },
      "cell_type": "code",
      "source": [
        "## Prepare of the enviroment\n",
        "!mkdir data\n",
        "!mv /content/Seinfeld_Scripts.txt /content/data"
      ],
      "execution_count": 0,
      "outputs": []
    },
    {
      "metadata": {
        "id": "1EU827OAv6t8",
        "colab_type": "code",
        "colab": {}
      },
      "cell_type": "code",
      "source": [
        "## Imports\n",
        "import re\n",
        "from collections import Counter\n",
        "\n",
        "import random\n",
        "import numpy as np\n",
        "\n",
        "from torch.utils.data import TensorDataset, DataLoader\n",
        "\n",
        "import torch.nn as nn"
      ],
      "execution_count": 0,
      "outputs": []
    },
    {
      "metadata": {
        "id": "Jd1jIKio0WdY",
        "colab_type": "code",
        "colab": {}
      },
      "cell_type": "code",
      "source": [
        "\"\"\"\n",
        "DON'T MODIFY ANYTHING IN THIS CELL\n",
        "\"\"\"\n",
        "# load in data\n",
        "import helper\n",
        "data_dir = './data/Seinfeld_Scripts.txt'\n",
        "text = helper.load_data(data_dir)"
      ],
      "execution_count": 0,
      "outputs": []
    },
    {
      "metadata": {
        "id": "_CZRWZA80Wdb",
        "colab_type": "text"
      },
      "cell_type": "markdown",
      "source": [
        "## Explore the Data\n",
        "Play around with `view_line_range` to view different parts of the data. This will give you a sense of the data you'll be working with. You can see, for example, that it is all lowercase text, and each new line of dialogue is separated by a newline character `\\n`."
      ]
    },
    {
      "metadata": {
        "id": "oy7sozFW0Wdc",
        "colab_type": "code",
        "outputId": "79629e68-b155-4b04-fd6f-eca57e3f12ae",
        "colab": {
          "base_uri": "https://localhost:8080/",
          "height": 321
        }
      },
      "cell_type": "code",
      "source": [
        "view_line_range = (0, 10)\n",
        "\n",
        "\"\"\"\n",
        "DON'T MODIFY ANYTHING IN THIS CELL THAT IS BELOW THIS LINE\n",
        "\"\"\"\n",
        "import numpy as np\n",
        "\n",
        "print('Dataset Stats')\n",
        "print('Roughly the number of unique words: {}'.format(len({word: None for word in text.split()})))\n",
        "\n",
        "lines = text.split('\\n')\n",
        "print('Number of lines: {}'.format(len(lines)))\n",
        "word_count_line = [len(line.split()) for line in lines]\n",
        "print('Average number of words in each line: {}'.format(np.average(word_count_line)))\n",
        "\n",
        "print()\n",
        "print('The lines {} to {}:'.format(*view_line_range))\n",
        "print('\\n'.join(text.split('\\n')[view_line_range[0]:view_line_range[1]]))"
      ],
      "execution_count": 4,
      "outputs": [
        {
          "output_type": "stream",
          "text": [
            "Dataset Stats\n",
            "Roughly the number of unique words: 46367\n",
            "Number of lines: 109233\n",
            "Average number of words in each line: 5.544240293684143\n",
            "\n",
            "The lines 0 to 10:\n",
            "jerry: do you know what this is all about? do you know, why were here? to be out, this is out...and out is one of the single most enjoyable experiences of life. people...did you ever hear people talking about we should go out? this is what theyre talking about...this whole thing, were all out now, no one is home. not one person here is home, were all out! there are people trying to find us, they dont know where we are. (on an imaginary phone) did you ring?, i cant find him. where did he go? he didnt tell me where he was going. he must have gone out. you wanna go out you get ready, you pick out the clothes, right? you take the shower, you get all ready, get the cash, get your friends, the car, the spot, the reservation...then youre standing around, what do you do? you go we gotta be getting back. once youre out, you wanna get back! you wanna go to sleep, you wanna get up, you wanna go out again tomorrow, right? where ever you are in life, its my feeling, youve gotta go. \n",
            "\n",
            "jerry: (pointing at georges shirt) see, to me, that button is in the worst possible spot. the second button literally makes or breaks the shirt, look at it. its too high! its in no-mans-land. you look like you live with your mother. \n",
            "\n",
            "george: are you through? \n",
            "\n",
            "jerry: you do of course try on, when you buy? \n",
            "\n",
            "george: yes, it was purple, i liked it, i dont actually recall considering the buttons. \n",
            "\n"
          ],
          "name": "stdout"
        }
      ]
    },
    {
      "metadata": {
        "id": "PuyEZgqT0Wde",
        "colab_type": "text"
      },
      "cell_type": "markdown",
      "source": [
        "---\n",
        "## Implement Pre-processing Functions\n",
        "The first thing to do to any dataset is pre-processing.  Implement the following pre-processing functions below:\n",
        "- Lookup Table\n",
        "- Tokenize Punctuation\n",
        "\n",
        "### Lookup Table\n",
        "To create a word embedding, you first need to transform the words to ids.  In this function, create two dictionaries:\n",
        "- Dictionary to go from the words to an id, we'll call `vocab_to_int`\n",
        "- Dictionary to go from the id to word, we'll call `int_to_vocab`\n",
        "\n",
        "Return these dictionaries in the following **tuple** `(vocab_to_int, int_to_vocab)`"
      ]
    },
    {
      "metadata": {
        "id": "7vJhLwcIkkA0",
        "colab_type": "code",
        "outputId": "09a5ad6c-2af9-4d28-ad90-da4cb82da86e",
        "colab": {
          "base_uri": "https://localhost:8080/",
          "height": 35
        }
      },
      "cell_type": "code",
      "source": [
        "# print out the first 100 characters\n",
        "print(text[:100])"
      ],
      "execution_count": 5,
      "outputs": [
        {
          "output_type": "stream",
          "text": [
            "jerry: do you know what this is all about? do you know, why were here? to be out, this is out...and \n"
          ],
          "name": "stdout"
        }
      ]
    },
    {
      "metadata": {
        "id": "E9TZlEJx0Wdf",
        "colab_type": "code",
        "outputId": "5a9853a9-d6f0-4073-bab7-c7d1a1203e20",
        "colab": {
          "base_uri": "https://localhost:8080/",
          "height": 35
        }
      },
      "cell_type": "code",
      "source": [
        "import problem_unittests as tests\n",
        "\n",
        "def create_lookup_tables(text):\n",
        "    \"\"\"\n",
        "    Create lookup tables for vocabulary\n",
        "    :param text: The text of tv scripts split into words\n",
        "    :return: A tuple of dicts (vocab_to_int, int_to_vocab)\n",
        "    \"\"\"\n",
        "    # TODO: Implement Function\n",
        "    words = set(text)\n",
        "    \n",
        "    int_to_vocab = {ii: word for ii, word in enumerate(words)}\n",
        "    vocab_to_int = {word: ii for ii, word in int_to_vocab.items()}\n",
        "\n",
        "    # return tuple\n",
        "    return (vocab_to_int, int_to_vocab)\n",
        "\n",
        "\n",
        "\"\"\"\n",
        "DON'T MODIFY ANYTHING IN THIS CELL THAT IS BELOW THIS LINE\n",
        "\"\"\"\n",
        "tests.test_create_lookup_tables(create_lookup_tables)"
      ],
      "execution_count": 6,
      "outputs": [
        {
          "output_type": "stream",
          "text": [
            "Tests Passed\n"
          ],
          "name": "stdout"
        }
      ]
    },
    {
      "metadata": {
        "id": "vmq5IvXb0Wdh",
        "colab_type": "text"
      },
      "cell_type": "markdown",
      "source": [
        "### Tokenize Punctuation\n",
        "We'll be splitting the script into a word array using spaces as delimiters.  However, punctuations like periods and exclamation marks can create multiple ids for the same word. For example, \"bye\" and \"bye!\" would generate two different word ids.\n",
        "\n",
        "Implement the function `token_lookup` to return a dict that will be used to tokenize symbols like \"!\" into \"||Exclamation_Mark||\".  Create a dictionary for the following symbols where the symbol is the key and value is the token:\n",
        "- Period ( **.** )\n",
        "- Comma ( **,** )\n",
        "- Quotation Mark ( **\"** )\n",
        "- Semicolon ( **;** )\n",
        "- Exclamation mark ( **!** )\n",
        "- Question mark ( **?** )\n",
        "- Left Parentheses ( **(** )\n",
        "- Right Parentheses ( **)** )\n",
        "- Dash ( **-** )\n",
        "- Return ( **\\n** )\n",
        "\n",
        "This dictionary will be used to tokenize the symbols and add the delimiter (space) around it.  This separates each symbols as its own word, making it easier for the neural network to predict the next word. Make sure you don't use a value that could be confused as a word; for example, instead of using the value \"dash\", try using something like \"||dash||\"."
      ]
    },
    {
      "metadata": {
        "id": "eeBE08z80Wdh",
        "colab_type": "code",
        "outputId": "a8433cf6-0643-4d8c-f81e-5675633acc66",
        "colab": {
          "base_uri": "https://localhost:8080/",
          "height": 35
        }
      },
      "cell_type": "code",
      "source": [
        "def token_lookup():\n",
        "    \"\"\"\n",
        "    Generate a dict to turn punctuation into a token.\n",
        "    :return: Tokenized dictionary where the key is the punctuation and the value is the token\n",
        "    \"\"\"\n",
        "    # TODO: Implement Function\n",
        "    # Replace punctuation with tokens so we can use them in our model\n",
        "    \n",
        "    dict_p = {'.': '<PERIOD>', \n",
        "                 ',': '<COMMA>', \n",
        "                 '\"': '<QUOTATION_MARK>',\n",
        "                 ';': '<SEMICOLON>',\n",
        "                 '!': '<EXCLAMATION_MARK>',\n",
        "                 '?': '<QUESTION_MARK>',\n",
        "                 '(': '<LEFT_PAREN>',\n",
        "                 ')': '<RIGHT_PAREN>',\n",
        "                 '-': '<DASH>',\n",
        "                 '\\n': '<NEW_LINE>'\n",
        "                }\n",
        "\n",
        "        \n",
        "    return dict_p\n",
        "\n",
        "\"\"\"\n",
        "DON'T MODIFY ANYTHING IN THIS CELL THAT IS BELOW THIS LINE\n",
        "\"\"\"\n",
        "tests.test_tokenize(token_lookup)"
      ],
      "execution_count": 7,
      "outputs": [
        {
          "output_type": "stream",
          "text": [
            "Tests Passed\n"
          ],
          "name": "stdout"
        }
      ]
    },
    {
      "metadata": {
        "id": "-4W6z76P0Wdj",
        "colab_type": "text"
      },
      "cell_type": "markdown",
      "source": [
        "## Pre-process all the data and save it\n",
        "\n",
        "Running the code cell below will pre-process all the data and save it to file. You're encouraged to lok at the code for `preprocess_and_save_data` in the `helpers.py` file to see what it's doing in detail, but you do not need to change this code."
      ]
    },
    {
      "metadata": {
        "id": "EtWMtP8H0Wdk",
        "colab_type": "code",
        "colab": {}
      },
      "cell_type": "code",
      "source": [
        "\"\"\"\n",
        "DON'T MODIFY ANYTHING IN THIS CELL\n",
        "\"\"\"\n",
        "# pre-process training data\n",
        "helper.preprocess_and_save_data(data_dir, token_lookup, create_lookup_tables)"
      ],
      "execution_count": 0,
      "outputs": []
    },
    {
      "metadata": {
        "id": "O9uxDkGH0Wdm",
        "colab_type": "text"
      },
      "cell_type": "markdown",
      "source": [
        "# Check Point\n",
        "This is your first checkpoint. If you ever decide to come back to this notebook or have to restart the notebook, you can start from here. The preprocessed data has been saved to disk."
      ]
    },
    {
      "metadata": {
        "id": "Ku_ST62Q0Wdn",
        "colab_type": "code",
        "colab": {}
      },
      "cell_type": "code",
      "source": [
        "\"\"\"\n",
        "DON'T MODIFY ANYTHING IN THIS CELL\n",
        "\"\"\"\n",
        "import helper\n",
        "import problem_unittests as tests\n",
        "\n",
        "int_text, vocab_to_int, int_to_vocab, token_dict = helper.load_preprocess()"
      ],
      "execution_count": 0,
      "outputs": []
    },
    {
      "metadata": {
        "id": "DAt03XGg0Wdq",
        "colab_type": "text"
      },
      "cell_type": "markdown",
      "source": [
        "## Build the Neural Network\n",
        "In this section, you'll build the components necessary to build an RNN by implementing the RNN Module and forward and backpropagation functions.\n",
        "\n",
        "### Check Access to GPU"
      ]
    },
    {
      "metadata": {
        "id": "IpVUx7gx0Wdr",
        "colab_type": "code",
        "colab": {}
      },
      "cell_type": "code",
      "source": [
        "\"\"\"\n",
        "DON'T MODIFY ANYTHING IN THIS CELL\n",
        "\"\"\"\n",
        "import torch\n",
        "\n",
        "# Check for a GPU\n",
        "train_on_gpu = torch.cuda.is_available()\n",
        "if not train_on_gpu:\n",
        "    print('No GPU found. Please use a GPU to train your neural network.')"
      ],
      "execution_count": 0,
      "outputs": []
    },
    {
      "metadata": {
        "id": "1_6Twna70Wdt",
        "colab_type": "text"
      },
      "cell_type": "markdown",
      "source": [
        "## Input\n",
        "Let's start with the preprocessed input data. We'll use [TensorDataset](http://pytorch.org/docs/master/data.html#torch.utils.data.TensorDataset) to provide a known format to our dataset; in combination with [DataLoader](http://pytorch.org/docs/master/data.html#torch.utils.data.DataLoader), it will handle batching, shuffling, and other dataset iteration functions.\n",
        "\n",
        "You can create data with TensorDataset by passing in feature and target tensors. Then create a DataLoader as usual.\n",
        "```\n",
        "data = TensorDataset(feature_tensors, target_tensors)\n",
        "data_loader = torch.utils.data.DataLoader(data, \n",
        "                                          batch_size=batch_size)\n",
        "```\n",
        "\n",
        "### Batching\n",
        "Implement the `batch_data` function to batch `words` data into chunks of size `batch_size` using the `TensorDataset` and `DataLoader` classes.\n",
        "\n",
        ">You can batch words using the DataLoader, but it will be up to you to create `feature_tensors` and `target_tensors` of the correct size and content for a given `sequence_length`.\n",
        "\n",
        "For example, say we have these as input:\n",
        "```\n",
        "words = [1, 2, 3, 4, 5, 6, 7]\n",
        "sequence_length = 4\n",
        "```\n",
        "\n",
        "Your first `feature_tensor` should contain the values:\n",
        "```\n",
        "[1, 2, 3, 4]\n",
        "```\n",
        "And the corresponding `target_tensor` should just be the next \"word\"/tokenized word value:\n",
        "```\n",
        "5\n",
        "```\n",
        "This should continue with the second `feature_tensor`, `target_tensor` being:\n",
        "```\n",
        "[2, 3, 4, 5]  # features\n",
        "6             # target\n",
        "```"
      ]
    },
    {
      "metadata": {
        "id": "FQJswj4f0Wdu",
        "colab_type": "code",
        "colab": {}
      },
      "cell_type": "code",
      "source": [
        "def batch_data(words, sequence_length, batch_size):\n",
        "    \"\"\"\n",
        "    Batch the neural network data using DataLoader\n",
        "    :param words: The word ids of the TV scripts\n",
        "    :param sequence_length: The sequence length of each batch\n",
        "    :param batch_size: The size of each batch; the number of sequences in a batch\n",
        "    :return: DataLoader with batched data\n",
        "    \"\"\"\n",
        "    # TODO: Implement function\n",
        "    feature_tensors = []\n",
        "    target_tensors  = []\n",
        "    \n",
        "    n_batches = len(words)//batch_size \n",
        "    \n",
        "    # only full batches  \n",
        "    for idx in range(0, len(words)-sequence_length):\n",
        "        feature_tensors.append(words[idx:idx+sequence_length])\n",
        "        target_tensors.append(words[idx+sequence_length])\n",
        "        \n",
        "    feature_tensors = torch.tensor(feature_tensors)\n",
        "    target_tensors = torch.tensor(target_tensors)    \n",
        "\n",
        "    data = TensorDataset(feature_tensors, target_tensors)  \n",
        "    data_loader = DataLoader(data, batch_size=batch_size, shuffle=True)\n",
        "    \n",
        "    return  data_loader"
      ],
      "execution_count": 0,
      "outputs": []
    },
    {
      "metadata": {
        "id": "DPniwKE70Wdw",
        "colab_type": "text"
      },
      "cell_type": "markdown",
      "source": [
        "### Test your dataloader \n",
        "\n",
        "You'll have to modify this code to test a batching function, but it should look fairly similar.\n",
        "\n",
        "Below, we're generating some test text data and defining a dataloader using the function you defined, above. Then, we are getting some sample batch of inputs `sample_x` and targets `sample_y` from our dataloader.\n",
        "\n",
        "Your code should return something like the following (likely in a different order, if you shuffled your data):\n",
        "\n",
        "```\n",
        "torch.Size([10, 5])\n",
        "tensor([[ 28,  29,  30,  31,  32],\n",
        "        [ 21,  22,  23,  24,  25],\n",
        "        [ 17,  18,  19,  20,  21],\n",
        "        [ 34,  35,  36,  37,  38],\n",
        "        [ 11,  12,  13,  14,  15],\n",
        "        [ 23,  24,  25,  26,  27],\n",
        "        [  6,   7,   8,   9,  10],\n",
        "        [ 38,  39,  40,  41,  42],\n",
        "        [ 25,  26,  27,  28,  29],\n",
        "        [  7,   8,   9,  10,  11]])\n",
        "\n",
        "torch.Size([10])\n",
        "tensor([ 33,  26,  22,  39,  16,  28,  11,  43,  30,  12])\n",
        "```\n",
        "\n",
        "### Sizes\n",
        "Your sample_x should be of size `(batch_size, sequence_length)` or (10, 5) in this case and sample_y should just have one dimension: batch_size (10). \n",
        "\n",
        "### Values\n",
        "\n",
        "You should also notice that the targets, sample_y, are the *next* value in the ordered test_text data. So, for an input sequence `[ 28,  29,  30,  31,  32]` that ends with the value `32`, the corresponding output should be `33`."
      ]
    },
    {
      "metadata": {
        "id": "T7HXPKAF0Wdw",
        "colab_type": "code",
        "outputId": "3de08a02-e8ed-4c49-88aa-a45e45089665",
        "colab": {
          "base_uri": "https://localhost:8080/",
          "height": 266
        }
      },
      "cell_type": "code",
      "source": [
        "# test dataloader\n",
        "\n",
        "test_text = range(50)\n",
        "t_loader = batch_data(test_text, sequence_length=5, batch_size=10)\n",
        "\n",
        "data_iter = iter(t_loader)\n",
        "sample_x, sample_y = data_iter.next()\n",
        "\n",
        "print(sample_x.shape)\n",
        "print(sample_x)\n",
        "print()\n",
        "print(sample_y.shape)\n",
        "print(sample_y)"
      ],
      "execution_count": 12,
      "outputs": [
        {
          "output_type": "stream",
          "text": [
            "torch.Size([10, 5])\n",
            "tensor([[18, 19, 20, 21, 22],\n",
            "        [ 0,  1,  2,  3,  4],\n",
            "        [ 7,  8,  9, 10, 11],\n",
            "        [43, 44, 45, 46, 47],\n",
            "        [40, 41, 42, 43, 44],\n",
            "        [15, 16, 17, 18, 19],\n",
            "        [13, 14, 15, 16, 17],\n",
            "        [ 1,  2,  3,  4,  5],\n",
            "        [19, 20, 21, 22, 23],\n",
            "        [33, 34, 35, 36, 37]])\n",
            "\n",
            "torch.Size([10])\n",
            "tensor([23,  5, 12, 48, 45, 20, 18,  6, 24, 38])\n"
          ],
          "name": "stdout"
        }
      ]
    },
    {
      "metadata": {
        "id": "_JRHMm8H0Wdy",
        "colab_type": "text"
      },
      "cell_type": "markdown",
      "source": [
        "---\n",
        "## Build the Neural Network\n",
        "Implement an RNN using PyTorch's [Module class](http://pytorch.org/docs/master/nn.html#torch.nn.Module). You may choose to use a GRU or an LSTM. To complete the RNN, you'll have to implement the following functions for the class:\n",
        " - `__init__` - The initialize function. \n",
        " - `init_hidden` - The initialization function for an LSTM/GRU hidden state\n",
        " - `forward` - Forward propagation function.\n",
        " \n",
        "The initialize function should create the layers of the neural network and save them to the class. The forward propagation function will use these layers to run forward propagation and generate an output and a hidden state.\n",
        "\n",
        "**The output of this model should be the *last* batch of word scores** after a complete sequence has been processed. That is, for each input sequence of words, we only want to output the word scores for a single, most likely, next word.\n",
        "\n",
        "### Hints\n",
        "\n",
        "1. Make sure to stack the outputs of the lstm to pass to your fully-connected layer, you can do this with `lstm_output = lstm_output.contiguous().view(-1, self.hidden_dim)`\n",
        "2. You can get the last batch of word scores by shaping the output of the final, fully-connected layer like so:\n",
        "\n",
        "```\n",
        "# reshape into (batch_size, seq_length, output_size)\n",
        "output = output.view(batch_size, -1, self.output_size)\n",
        "# get last batch\n",
        "out = output[:, -1]\n",
        "```"
      ]
    },
    {
      "metadata": {
        "id": "0IcDwohM0Wdz",
        "colab_type": "code",
        "outputId": "352e07e3-ae7c-46b7-918e-2fbd185ee161",
        "colab": {
          "base_uri": "https://localhost:8080/",
          "height": 35
        }
      },
      "cell_type": "code",
      "source": [
        "class RNN(nn.Module):\n",
        "    \n",
        "    def __init__(self, vocab_size, output_size, embedding_dim, hidden_dim, n_layers, dropout=0.5):\n",
        "        \"\"\"\n",
        "        Initialize the PyTorch RNN Module\n",
        "        :param vocab_size: The number of input dimensions of the neural network (the size of the vocabulary)\n",
        "        :param output_size: The number of output dimensions of the neural network\n",
        "        :param embedding_dim: The size of embeddings, should you choose to use them        \n",
        "        :param hidden_dim: The size of the hidden layer outputs\n",
        "        :param dropout: dropout to add in between LSTM/GRU layers\n",
        "        \"\"\"\n",
        "        super(RNN, self).__init__()\n",
        "        \n",
        "        # TODO: Implement function\n",
        "        # set class variables\n",
        "        self.vocab_size    = vocab_size\n",
        "        self.output_size   = output_size\n",
        "        self.embedding_dim = embedding_dim\n",
        "        self.hidden_dim    = hidden_dim\n",
        "        self.n_layers      = n_layers\n",
        "        self.dropout       = dropout\n",
        "        \n",
        "        # define embedding layers for input words\n",
        "        self.in_embed  = nn.Embedding(vocab_size, embedding_dim)        \n",
        "          \n",
        "        # define model layers\n",
        "        self.in_embed.weight.data.uniform_(-1, 1)\n",
        "        \n",
        "        self.lstm = nn.LSTM(embedding_dim, hidden_dim, n_layers, \n",
        "                            dropout=dropout, batch_first=True)\n",
        "        \n",
        "        # define a dropout layer\n",
        "        self.dropout = nn.Dropout(dropout)\n",
        "        \n",
        "        # define the final, fully-connected output layer\n",
        "        self.fc = nn.Linear(hidden_dim, vocab_size)       \n",
        "    \n",
        "    \n",
        "    def forward(self, nn_input, hidden):\n",
        "        \"\"\"\n",
        "        Forward propagation of the neural network\n",
        "        :param nn_input: The input to the neural network\n",
        "        :param hidden: The hidden state        \n",
        "        :return: Two Tensors, the output of the neural network and the latest hidden state\n",
        "        \"\"\"\n",
        "        # TODO: Implement function  \n",
        "        # Get sizes from tensor input\n",
        "        batch, s_length = nn_input.shape[0], nn_input.shape[1]\n",
        "        \n",
        "        # Input data \n",
        "        data = self.in_embed(nn_input)\n",
        "        \n",
        "        # Feed data \n",
        "        data, hidden = self.lstm(data, hidden)\n",
        "        \n",
        "        #dropout ?\n",
        "        \n",
        "        # Output word results\n",
        "        out = data.contiguous().view(-1, self.hidden_dim)\n",
        "        out = self.fc(out)\n",
        "        \n",
        "        # reshape into (batch_size, seq_length, output_size) ## how explained\n",
        "        out = out.view(batch, -1, self.output_size)\n",
        "        \n",
        "        # get last batch and hidden ## how explained\n",
        "        return out[:, -1], hidden\n",
        "    \n",
        "    \n",
        "    def init_hidden(self, batch_size):\n",
        "        '''\n",
        "        Initialize the hidden state of an LSTM/GRU\n",
        "        :param batch_size: The batch_size of the hidden state\n",
        "        :return: hidden state of dims (n_layers, batch_size, hidden_dim)\n",
        "        '''\n",
        "        # Implement function\n",
        "        weight = next(self.parameters()).data\n",
        "        \n",
        "        # initialize hidden state with zero weights, and move to GPU if available\n",
        "        if (train_on_gpu):\n",
        "            hidden = (weight.new(self.n_layers, batch_size, self.hidden_dim).zero_().cuda(),\n",
        "                  weight.new(self.n_layers, batch_size, self.hidden_dim).zero_().cuda())\n",
        "        else:\n",
        "            hidden = (weight.new(self.n_layers, batch_size, self.hidden_dim).zero_(),\n",
        "                      weight.new(self.n_layers, batch_size, self.hidden_dim).zero_())\n",
        "        \n",
        "        return hidden          \n",
        "    \n",
        "\n",
        "\"\"\"\n",
        "DON'T MODIFY ANYTHING IN THIS CELL THAT IS BELOW THIS LINE\n",
        "\"\"\"\n",
        "tests.test_rnn(RNN, train_on_gpu)"
      ],
      "execution_count": 13,
      "outputs": [
        {
          "output_type": "stream",
          "text": [
            "Tests Passed\n"
          ],
          "name": "stdout"
        }
      ]
    },
    {
      "metadata": {
        "id": "ajQqXz2r0Wd1",
        "colab_type": "text"
      },
      "cell_type": "markdown",
      "source": [
        "### Define forward and backpropagation\n",
        "\n",
        "Use the RNN class you implemented to apply forward and back propagation. This function will be called, iteratively, in the training loop as follows:\n",
        "```\n",
        "loss = forward_back_prop(decoder, decoder_optimizer, criterion, inp, target)\n",
        "```\n",
        "\n",
        "And it should return the average loss over a batch and the hidden state returned by a call to `RNN(inp, hidden)`. Recall that you can get this loss by computing it, as usual, and calling `loss.item()`.\n",
        "\n",
        "**If a GPU is available, you should move your data to that GPU device, here.**"
      ]
    },
    {
      "metadata": {
        "id": "U8afkeNE0Wd1",
        "colab_type": "code",
        "outputId": "8d41e7aa-1253-460f-f379-965eb76f65e5",
        "colab": {
          "base_uri": "https://localhost:8080/",
          "height": 35
        }
      },
      "cell_type": "code",
      "source": [
        "def forward_back_prop(rnn, optimizer, criterion, inp, target, hidden):\n",
        "    \"\"\"\n",
        "    Forward and backward propagation on the neural network\n",
        "    :param rnn: The PyTorch Module that holds the neural network\n",
        "    :param optimizer: The PyTorch optimizer for the neural network\n",
        "    :param criterion: The PyTorch loss function\n",
        "    :param inp: A batch of input to the neural network\n",
        "    :param target: The target output for the batch of input\n",
        "    :return: The loss and the latest hidden state Tensor\n",
        "    \"\"\"\n",
        "    \n",
        "    # TODO: Implement Function\n",
        "    \n",
        "    # move data to GPU, if available\n",
        "    # check if GPU is available\n",
        "    if(train_on_gpu):\n",
        "        inp, target = inp.cuda(), target.cuda()\n",
        "        \n",
        "    # perform forward\n",
        "    hidden = tuple([each.data for each in hidden])\n",
        "    out, hidden = rnn(inp, hidden)    \n",
        "\n",
        "    # optimizer\n",
        "    optimizer.zero_grad()\n",
        "    \n",
        "    # perform backpropagation\n",
        "    loss = criterion(out, target)\n",
        "\n",
        "    # calculate the loss and perform backprop\n",
        "    loss.backward()\n",
        "    optimizer.step()\n",
        " \n",
        "    # return the loss over a batch and the hidden state produced by our model\n",
        "    return loss.item(), hidden\n",
        "\n",
        "# Note that these tests aren't completely extensive.\n",
        "# they are here to act as general checks on the expected outputs of your functions\n",
        "\"\"\"\n",
        "DON'T MODIFY ANYTHING IN THIS CELL THAT IS BELOW THIS LINE\n",
        "\"\"\"\n",
        "tests.test_forward_back_prop(RNN, forward_back_prop, train_on_gpu)"
      ],
      "execution_count": 14,
      "outputs": [
        {
          "output_type": "stream",
          "text": [
            "Tests Passed\n"
          ],
          "name": "stdout"
        }
      ]
    },
    {
      "metadata": {
        "id": "NXDVCGlh0Wd3",
        "colab_type": "text"
      },
      "cell_type": "markdown",
      "source": [
        "## Neural Network Training\n",
        "\n",
        "With the structure of the network complete and data ready to be fed in the neural network, it's time to train it.\n",
        "\n",
        "### Train Loop\n",
        "\n",
        "The training loop is implemented for you in the `train_decoder` function. This function will train the network over all the batches for the number of epochs given. The model progress will be shown every number of batches. This number is set with the `show_every_n_batches` parameter. You'll set this parameter along with other parameters in the next section."
      ]
    },
    {
      "metadata": {
        "id": "RGqAfQjS0Wd4",
        "colab_type": "code",
        "colab": {}
      },
      "cell_type": "code",
      "source": [
        "\"\"\"\n",
        "DON'T MODIFY ANYTHING IN THIS CELL\n",
        "\"\"\"\n",
        "\n",
        "def train_rnn(rnn, batch_size, optimizer, criterion, n_epochs, show_every_n_batches=100):\n",
        "    batch_losses = []\n",
        "    \n",
        "    rnn.train()\n",
        "\n",
        "    print(\"Training for %d epoch(s)...\" % n_epochs)\n",
        "    for epoch_i in range(1, n_epochs + 1):\n",
        "        \n",
        "        # initialize hidden state\n",
        "        hidden = rnn.init_hidden(batch_size)\n",
        "        \n",
        "        for batch_i, (inputs, labels) in enumerate(train_loader, 1):\n",
        "            \n",
        "            # make sure you iterate over completely full batches, only\n",
        "            n_batches = len(train_loader.dataset)//batch_size\n",
        "            if(batch_i > n_batches):\n",
        "                break\n",
        "            \n",
        "            # forward, back prop\n",
        "            loss, hidden = forward_back_prop(rnn, optimizer, criterion, inputs, labels, hidden)          \n",
        "            # record loss\n",
        "            batch_losses.append(loss)\n",
        "\n",
        "            # printing loss stats\n",
        "            if batch_i % show_every_n_batches == 0:\n",
        "                print('Epoch: {:>4}/{:<4}  Loss: {}\\n'.format(\n",
        "                    epoch_i, n_epochs, np.average(batch_losses)))\n",
        "                batch_losses = []\n",
        "\n",
        "    # returns a trained rnn\n",
        "    return rnn"
      ],
      "execution_count": 0,
      "outputs": []
    },
    {
      "metadata": {
        "id": "EMBeuzDT0Wd7",
        "colab_type": "text"
      },
      "cell_type": "markdown",
      "source": [
        "### Hyperparameters\n",
        "\n",
        "Set and train the neural network with the following parameters:\n",
        "- Set `sequence_length` to the length of a sequence.\n",
        "- Set `batch_size` to the batch size.\n",
        "- Set `num_epochs` to the number of epochs to train for.\n",
        "- Set `learning_rate` to the learning rate for an Adam optimizer.\n",
        "- Set `vocab_size` to the number of unique tokens in our vocabulary.\n",
        "- Set `output_size` to the desired size of the output.\n",
        "- Set `embedding_dim` to the embedding dimension; smaller than the vocab_size.\n",
        "- Set `hidden_dim` to the hidden dimension of your RNN.\n",
        "- Set `n_layers` to the number of layers/cells in your RNN.\n",
        "- Set `show_every_n_batches` to the number of batches at which the neural network should print progress.\n",
        "\n",
        "If the network isn't getting the desired results, tweak these parameters and/or the layers in the `RNN` class."
      ]
    },
    {
      "metadata": {
        "id": "FweoLjqh0Wd7",
        "colab_type": "code",
        "colab": {}
      },
      "cell_type": "code",
      "source": [
        "# Data params\n",
        "# Sequence Length\n",
        "sequence_length = 100 # of words in a sequence\n",
        "# Batch Size\n",
        "batch_size = 100\n",
        "\n",
        "# data loader - do not change\n",
        "train_loader = batch_data(int_text, sequence_length, batch_size)"
      ],
      "execution_count": 0,
      "outputs": []
    },
    {
      "metadata": {
        "id": "1J1CTszb0Wd_",
        "colab_type": "code",
        "colab": {}
      },
      "cell_type": "code",
      "source": [
        "# Training parameters\n",
        "# Number of Epochs\n",
        "num_epochs = 10\n",
        "# Learning Rate\n",
        "learning_rate = 0.001\n",
        "\n",
        "# Model parameters\n",
        "# Vocab size\n",
        "vocab_size = len(vocab_to_int)\n",
        "# Output size\n",
        "output_size = len(vocab_to_int)\n",
        "# Embedding Dimension\n",
        "embedding_dim = 100\n",
        "# Hidden Dimension\n",
        "hidden_dim = 500\n",
        "# Number of RNN Layers\n",
        "n_layers = 2\n",
        "\n",
        "# Show stats for every n number of batches\n",
        "show_every_n_batches = 500"
      ],
      "execution_count": 0,
      "outputs": []
    },
    {
      "metadata": {
        "id": "_f0qN0zG0WeE",
        "colab_type": "text"
      },
      "cell_type": "markdown",
      "source": [
        "### Train\n",
        "In the next cell, you'll train the neural network on the pre-processed data.  If you have a hard time getting a good loss, you may consider changing your hyperparameters. In general, you may get better results with larger hidden and n_layer dimensions, but larger models take a longer time to train. \n",
        "> **You should aim for a loss less than 3.5.** \n",
        "\n",
        "You should also experiment with different sequence lengths, which determine the size of the long range dependencies that a model can learn."
      ]
    },
    {
      "metadata": {
        "id": "sTxm1MgC0WeF",
        "colab_type": "code",
        "outputId": "51d3df5f-e545-4a2f-f219-34cce67ae14e",
        "colab": {
          "base_uri": "https://localhost:8080/",
          "height": 4764
        }
      },
      "cell_type": "code",
      "source": [
        "\"\"\"\n",
        "DON'T MODIFY ANYTHING IN THIS CELL\n",
        "\"\"\"\n",
        "\n",
        "# create model and move to gpu if available\n",
        "rnn = RNN(vocab_size, output_size, embedding_dim, hidden_dim, n_layers, dropout=0.5)\n",
        "if train_on_gpu:\n",
        "    rnn.cuda()\n",
        "\n",
        "# defining loss and optimization functions for training\n",
        "optimizer = torch.optim.Adam(rnn.parameters(), lr=learning_rate)\n",
        "criterion = nn.CrossEntropyLoss()\n",
        "\n",
        "# training the model\n",
        "trained_rnn = train_rnn(rnn, batch_size, optimizer, criterion, num_epochs, show_every_n_batches)\n",
        "\n",
        "# saving the trained model\n",
        "helper.save_model('./save/trained_rnn', trained_rnn)\n",
        "print('Model Trained and Saved')"
      ],
      "execution_count": 0,
      "outputs": [
        {
          "output_type": "stream",
          "text": [
            "Training for 10 epoch(s)...\n",
            "Epoch:    1/10    Loss: 5.602100827217102\n",
            "\n",
            "Epoch:    1/10    Loss: 4.941788311958313\n",
            "\n",
            "Epoch:    1/10    Loss: 4.750542182922363\n",
            "\n",
            "Epoch:    1/10    Loss: 4.584413649559021\n",
            "\n",
            "Epoch:    1/10    Loss: 4.527101191043854\n",
            "\n",
            "Epoch:    1/10    Loss: 4.481170106887817\n",
            "\n",
            "Epoch:    1/10    Loss: 4.379947110652924\n",
            "\n",
            "Epoch:    1/10    Loss: 4.349621983528137\n",
            "\n",
            "Epoch:    1/10    Loss: 4.3217967762947085\n",
            "\n",
            "Epoch:    1/10    Loss: 4.272332056045532\n",
            "\n",
            "Epoch:    1/10    Loss: 4.228611248016358\n",
            "\n",
            "Epoch:    1/10    Loss: 4.2098503861427305\n",
            "\n",
            "Epoch:    1/10    Loss: 4.19095743560791\n",
            "\n",
            "Epoch:    1/10    Loss: 4.181575545787811\n",
            "\n",
            "Epoch:    1/10    Loss: 4.149830428123474\n",
            "\n",
            "Epoch:    1/10    Loss: 4.143485543251038\n",
            "\n",
            "Epoch:    1/10    Loss: 4.150594417095184\n",
            "\n",
            "Epoch:    2/10    Loss: 4.036949570023495\n",
            "\n",
            "Epoch:    2/10    Loss: 3.92964182806015\n",
            "\n",
            "Epoch:    2/10    Loss: 3.919867284297943\n",
            "\n",
            "Epoch:    2/10    Loss: 3.88220742893219\n",
            "\n",
            "Epoch:    2/10    Loss: 3.939373212814331\n",
            "\n",
            "Epoch:    2/10    Loss: 3.9319594488143923\n",
            "\n",
            "Epoch:    2/10    Loss: 3.8896244864463805\n",
            "\n",
            "Epoch:    2/10    Loss: 3.896434160709381\n",
            "\n",
            "Epoch:    2/10    Loss: 3.8753677258491517\n",
            "\n",
            "Epoch:    2/10    Loss: 3.8612574157714845\n",
            "\n",
            "Epoch:    2/10    Loss: 3.8819572558403017\n",
            "\n",
            "Epoch:    2/10    Loss: 3.865377236843109\n",
            "\n",
            "Epoch:    2/10    Loss: 3.883433364391327\n",
            "\n",
            "Epoch:    2/10    Loss: 3.8935110654830933\n",
            "\n",
            "Epoch:    2/10    Loss: 3.8575277261734007\n",
            "\n",
            "Epoch:    2/10    Loss: 3.8542941527366636\n",
            "\n",
            "Epoch:    2/10    Loss: 3.85303786945343\n",
            "\n",
            "Epoch:    3/10    Loss: 3.747785637430523\n",
            "\n",
            "Epoch:    3/10    Loss: 3.6652788972854613\n",
            "\n",
            "Epoch:    3/10    Loss: 3.6579611592292784\n",
            "\n",
            "Epoch:    3/10    Loss: 3.672761215686798\n",
            "\n",
            "Epoch:    3/10    Loss: 3.6263145871162417\n",
            "\n",
            "Epoch:    3/10    Loss: 3.6786479387283326\n",
            "\n",
            "Epoch:    3/10    Loss: 3.6719478640556336\n",
            "\n",
            "Epoch:    3/10    Loss: 3.702574948787689\n",
            "\n",
            "Epoch:    3/10    Loss: 3.70085361289978\n",
            "\n",
            "Epoch:    3/10    Loss: 3.681367769241333\n",
            "\n",
            "Epoch:    3/10    Loss: 3.662577941417694\n",
            "\n",
            "Epoch:    3/10    Loss: 3.672427971839905\n",
            "\n",
            "Epoch:    3/10    Loss: 3.7010276832580566\n",
            "\n",
            "Epoch:    3/10    Loss: 3.697482397079468\n",
            "\n",
            "Epoch:    3/10    Loss: 3.677915271759033\n",
            "\n",
            "Epoch:    3/10    Loss: 3.7037002201080322\n",
            "\n",
            "Epoch:    3/10    Loss: 3.707754611492157\n",
            "\n",
            "Epoch:    4/10    Loss: 3.577539757801139\n",
            "\n",
            "Epoch:    4/10    Loss: 3.473988553524017\n",
            "\n",
            "Epoch:    4/10    Loss: 3.4872922229766847\n",
            "\n",
            "Epoch:    4/10    Loss: 3.4898532719612123\n",
            "\n",
            "Epoch:    4/10    Loss: 3.504704065799713\n",
            "\n",
            "Epoch:    4/10    Loss: 3.4789943294525147\n",
            "\n",
            "Epoch:    4/10    Loss: 3.492412256240845\n",
            "\n",
            "Epoch:    4/10    Loss: 3.4887312927246095\n",
            "\n",
            "Epoch:    4/10    Loss: 3.5188568234443665\n",
            "\n",
            "Epoch:    4/10    Loss: 3.5127336168289185\n",
            "\n",
            "Epoch:    4/10    Loss: 3.5355577635765076\n",
            "\n",
            "Epoch:    4/10    Loss: 3.5312316703796385\n",
            "\n",
            "Epoch:    4/10    Loss: 3.519444883823395\n",
            "\n",
            "Epoch:    4/10    Loss: 3.5367228984832764\n",
            "\n",
            "Epoch:    4/10    Loss: 3.5489796710014345\n",
            "\n",
            "Epoch:    4/10    Loss: 3.5541269798278807\n",
            "\n",
            "Epoch:    4/10    Loss: 3.5365914096832274\n",
            "\n",
            "Epoch:    5/10    Loss: 3.4244874365951703\n",
            "\n",
            "Epoch:    5/10    Loss: 3.3128077578544617\n",
            "\n",
            "Epoch:    5/10    Loss: 3.3124235129356383\n",
            "\n",
            "Epoch:    5/10    Loss: 3.3307752771377563\n",
            "\n",
            "Epoch:    5/10    Loss: 3.33140181350708\n",
            "\n",
            "Epoch:    5/10    Loss: 3.3625233845710754\n",
            "\n",
            "Epoch:    5/10    Loss: 3.3641367354393004\n",
            "\n",
            "Epoch:    5/10    Loss: 3.3638187007904055\n",
            "\n",
            "Epoch:    5/10    Loss: 3.369905336380005\n",
            "\n",
            "Epoch:    5/10    Loss: 3.363298492908478\n",
            "\n",
            "Epoch:    5/10    Loss: 3.395336567878723\n",
            "\n",
            "Epoch:    5/10    Loss: 3.3858401346206666\n",
            "\n",
            "Epoch:    5/10    Loss: 3.398410453796387\n",
            "\n",
            "Epoch:    5/10    Loss: 3.406834554195404\n",
            "\n",
            "Epoch:    5/10    Loss: 3.419119179725647\n",
            "\n",
            "Epoch:    5/10    Loss: 3.419690711021423\n",
            "\n",
            "Epoch:    5/10    Loss: 3.425176557064056\n",
            "\n",
            "Epoch:    6/10    Loss: 3.277093676380489\n",
            "\n",
            "Epoch:    6/10    Loss: 3.172680431842804\n",
            "\n",
            "Epoch:    6/10    Loss: 3.1926957597732546\n",
            "\n",
            "Epoch:    6/10    Loss: 3.21394540309906\n",
            "\n",
            "Epoch:    6/10    Loss: 3.219689178943634\n",
            "\n",
            "Epoch:    6/10    Loss: 3.221456558227539\n",
            "\n",
            "Epoch:    6/10    Loss: 3.222410306930542\n",
            "\n",
            "Epoch:    6/10    Loss: 3.235775246143341\n",
            "\n",
            "Epoch:    6/10    Loss: 3.2509424014091493\n",
            "\n",
            "Epoch:    6/10    Loss: 3.2715480880737307\n",
            "\n",
            "Epoch:    6/10    Loss: 3.282037417411804\n",
            "\n",
            "Epoch:    6/10    Loss: 3.2630856938362123\n",
            "\n",
            "Epoch:    6/10    Loss: 3.2717960634231567\n",
            "\n",
            "Epoch:    6/10    Loss: 3.292918438911438\n",
            "\n",
            "Epoch:    6/10    Loss: 3.3140049533843996\n",
            "\n",
            "Epoch:    6/10    Loss: 3.2949403142929077\n",
            "\n",
            "Epoch:    6/10    Loss: 3.3391004467010497\n",
            "\n",
            "Epoch:    7/10    Loss: 3.169436333231304\n",
            "\n",
            "Epoch:    7/10    Loss: 3.0721981554031372\n",
            "\n",
            "Epoch:    7/10    Loss: 3.091512402057648\n",
            "\n",
            "Epoch:    7/10    Loss: 3.093750669002533\n",
            "\n",
            "Epoch:    7/10    Loss: 3.0928595252037048\n",
            "\n",
            "Epoch:    7/10    Loss: 3.115165217399597\n",
            "\n",
            "Epoch:    7/10    Loss: 3.147398468494415\n",
            "\n",
            "Epoch:    7/10    Loss: 3.1338694071769715\n",
            "\n",
            "Epoch:    7/10    Loss: 3.155161979675293\n",
            "\n",
            "Epoch:    7/10    Loss: 3.1492311134338378\n",
            "\n",
            "Epoch:    7/10    Loss: 3.1672856068611144\n",
            "\n",
            "Epoch:    7/10    Loss: 3.1996714992523194\n",
            "\n",
            "Epoch:    7/10    Loss: 3.1996546025276182\n",
            "\n",
            "Epoch:    7/10    Loss: 3.1970434885025023\n",
            "\n",
            "Epoch:    7/10    Loss: 3.220318498134613\n",
            "\n",
            "Epoch:    7/10    Loss: 3.2160953373909\n",
            "\n",
            "Epoch:    7/10    Loss: 3.227645529270172\n",
            "\n",
            "Epoch:    8/10    Loss: 3.0768601806267446\n",
            "\n",
            "Epoch:    8/10    Loss: 2.96857905960083\n",
            "\n",
            "Epoch:    8/10    Loss: 2.989327173233032\n",
            "\n",
            "Epoch:    8/10    Loss: 3.0118928027153014\n",
            "\n",
            "Epoch:    8/10    Loss: 3.0306860556602477\n",
            "\n",
            "Epoch:    8/10    Loss: 3.042163965702057\n",
            "\n",
            "Epoch:    8/10    Loss: 3.0368936314582826\n",
            "\n",
            "Epoch:    8/10    Loss: 3.04449605178833\n",
            "\n",
            "Epoch:    8/10    Loss: 3.048473243713379\n",
            "\n",
            "Epoch:    8/10    Loss: 3.075711094856262\n",
            "\n",
            "Epoch:    8/10    Loss: 3.077119080066681\n",
            "\n",
            "Epoch:    8/10    Loss: 3.104620729446411\n",
            "\n",
            "Epoch:    8/10    Loss: 3.120781886577606\n",
            "\n",
            "Epoch:    8/10    Loss: 3.1195115766525268\n",
            "\n"
          ],
          "name": "stdout"
        }
      ]
    },
    {
      "metadata": {
        "id": "U__xWVY20WeH",
        "colab_type": "text"
      },
      "cell_type": "markdown",
      "source": [
        "### Question: How did you decide on your model hyperparameters? \n",
        "For example, did you try different sequence_lengths and find that one size made the model converge faster? What about your hidden_dim and n_layers; how did you decide on those?"
      ]
    },
    {
      "metadata": {
        "id": "OLh73VdJ0WeH",
        "colab_type": "text"
      },
      "cell_type": "markdown",
      "source": [
        "**Answer:** (Write answer, here)"
      ]
    },
    {
      "metadata": {
        "id": "dR69mdRu0WeI",
        "colab_type": "text"
      },
      "cell_type": "markdown",
      "source": [
        "---\n",
        "# Checkpoint\n",
        "\n",
        "After running the above training cell, your model will be saved by name, `trained_rnn`, and if you save your notebook progress, **you can pause here and come back to this code at another time**. You can resume your progress by running the next cell, which will load in our word:id dictionaries _and_ load in your saved model by name!"
      ]
    },
    {
      "metadata": {
        "id": "yK0wfgyJ0WeI",
        "colab_type": "code",
        "colab": {}
      },
      "cell_type": "code",
      "source": [
        "\"\"\"\n",
        "DON'T MODIFY ANYTHING IN THIS CELL\n",
        "\"\"\"\n",
        "import torch\n",
        "import helper\n",
        "import problem_unittests as tests\n",
        "\n",
        "_, vocab_to_int, int_to_vocab, token_dict = helper.load_preprocess()\n",
        "trained_rnn = helper.load_model('./save/trained_rnn')"
      ],
      "execution_count": 0,
      "outputs": []
    },
    {
      "metadata": {
        "id": "loPIoYgi0WeK",
        "colab_type": "text"
      },
      "cell_type": "markdown",
      "source": [
        "## Generate TV Script\n",
        "With the network trained and saved, you'll use it to generate a new, \"fake\" Seinfeld TV script in this section.\n",
        "\n",
        "### Generate Text\n",
        "To generate the text, the network needs to start with a single word and repeat its predictions until it reaches a set length. You'll be using the `generate` function to do this. It takes a word id to start with, `prime_id`, and generates a set length of text, `predict_len`. Also note that it uses topk sampling to introduce some randomness in choosing the most likely next word, given an output set of word scores!"
      ]
    },
    {
      "metadata": {
        "id": "vZiuBlUR0WeL",
        "colab_type": "code",
        "colab": {}
      },
      "cell_type": "code",
      "source": [
        "\"\"\"\n",
        "DON'T MODIFY ANYTHING IN THIS CELL THAT IS BELOW THIS LINE\n",
        "\"\"\"\n",
        "import torch.nn.functional as F\n",
        "\n",
        "def generate(rnn, prime_id, int_to_vocab, token_dict, pad_value, predict_len=100):\n",
        "    \"\"\"\n",
        "    Generate text using the neural network\n",
        "    :param decoder: The PyTorch Module that holds the trained neural network\n",
        "    :param prime_id: The word id to start the first prediction\n",
        "    :param int_to_vocab: Dict of word id keys to word values\n",
        "    :param token_dict: Dict of puncuation tokens keys to puncuation values\n",
        "    :param pad_value: The value used to pad a sequence\n",
        "    :param predict_len: The length of text to generate\n",
        "    :return: The generated text\n",
        "    \"\"\"\n",
        "    rnn.eval()\n",
        "    \n",
        "    # create a sequence (batch_size=1) with the prime_id\n",
        "    current_seq = np.full((1, sequence_length), pad_value)\n",
        "    current_seq[-1][-1] = prime_id\n",
        "    predicted = [int_to_vocab[prime_id]]\n",
        "    \n",
        "    for _ in range(predict_len):\n",
        "        if train_on_gpu:\n",
        "            current_seq = torch.LongTensor(current_seq).cuda()\n",
        "        else:\n",
        "            current_seq = torch.LongTensor(current_seq)\n",
        "        \n",
        "        # initialize the hidden state\n",
        "        hidden = rnn.init_hidden(current_seq.size(0))\n",
        "        \n",
        "        # get the output of the rnn\n",
        "        output, _ = rnn(current_seq, hidden)\n",
        "        \n",
        "        # get the next word probabilities\n",
        "        p = F.softmax(output, dim=1).data\n",
        "        if(train_on_gpu):\n",
        "            p = p.cpu() # move to cpu\n",
        "         \n",
        "        # use top_k sampling to get the index of the next word\n",
        "        top_k = 5\n",
        "        p, top_i = p.topk(top_k)\n",
        "        top_i = top_i.numpy().squeeze()\n",
        "        \n",
        "        # select the likely next word index with some element of randomness\n",
        "        p = p.numpy().squeeze()\n",
        "        word_i = np.random.choice(top_i, p=p/p.sum())\n",
        "        \n",
        "        # retrieve that word from the dictionary\n",
        "        word = int_to_vocab[word_i]\n",
        "        predicted.append(word)     \n",
        "        \n",
        "        # the generated word becomes the next \"current sequence\" and the cycle can continue\n",
        "        current_seq = np.roll(current_seq, -1, 1)\n",
        "        current_seq[-1][-1] = word_i\n",
        "    \n",
        "    gen_sentences = ' '.join(predicted)\n",
        "    \n",
        "    # Replace punctuation tokens\n",
        "    for key, token in token_dict.items():\n",
        "        ending = ' ' if key in ['\\n', '(', '\"'] else ''\n",
        "        gen_sentences = gen_sentences.replace(' ' + token.lower(), key)\n",
        "    gen_sentences = gen_sentences.replace('\\n ', '\\n')\n",
        "    gen_sentences = gen_sentences.replace('( ', '(')\n",
        "    \n",
        "    # return all the sentences\n",
        "    return gen_sentences"
      ],
      "execution_count": 0,
      "outputs": []
    },
    {
      "metadata": {
        "id": "GPZ0Jzik0WeN",
        "colab_type": "text"
      },
      "cell_type": "markdown",
      "source": [
        "### Generate a New Script\n",
        "It's time to generate the text. Set `gen_length` to the length of TV script you want to generate and set `prime_word` to one of the following to start the prediction:\n",
        "- \"jerry\"\n",
        "- \"elaine\"\n",
        "- \"george\"\n",
        "- \"kramer\"\n",
        "\n",
        "You can set the prime word to _any word_ in our dictionary, but it's best to start with a name for generating a TV script. (You can also start with any other names you find in the original text file!)"
      ]
    },
    {
      "metadata": {
        "id": "vbAhO9NH0WeN",
        "colab_type": "code",
        "colab": {}
      },
      "cell_type": "code",
      "source": [
        "# run the cell multiple times to get different results!\n",
        "gen_length = 400 # modify the length to your preference\n",
        "prime_word = 'jerry' # name for starting the script\n",
        "\n",
        "\"\"\"\n",
        "DON'T MODIFY ANYTHING IN THIS CELL THAT IS BELOW THIS LINE\n",
        "\"\"\"\n",
        "pad_word = helper.SPECIAL_WORDS['PADDING']\n",
        "generated_script = generate(trained_rnn, vocab_to_int[prime_word + ':'], int_to_vocab, token_dict, vocab_to_int[pad_word], gen_length)\n",
        "print(generated_script)"
      ],
      "execution_count": 0,
      "outputs": []
    },
    {
      "metadata": {
        "id": "YRajzRWZ0WeP",
        "colab_type": "text"
      },
      "cell_type": "markdown",
      "source": [
        "#### Save your favorite scripts\n",
        "\n",
        "Once you have a script that you like (or find interesting), save it to a text file!"
      ]
    },
    {
      "metadata": {
        "id": "Qv5IxEsG0WeQ",
        "colab_type": "code",
        "colab": {}
      },
      "cell_type": "code",
      "source": [
        "# save script to a text file\n",
        "f =  open(\"generated_script_1.txt\",\"w\")\n",
        "f.write(generated_script)\n",
        "f.close()"
      ],
      "execution_count": 0,
      "outputs": []
    },
    {
      "metadata": {
        "id": "dQZBAyYg0WeS",
        "colab_type": "text"
      },
      "cell_type": "markdown",
      "source": [
        "# The TV Script is Not Perfect\n",
        "It's ok if the TV script doesn't make perfect sense. It should look like alternating lines of dialogue, here is one such example of a few generated lines.\n",
        "\n",
        "### Example generated script\n",
        "\n",
        ">jerry: what about me?\n",
        ">\n",
        ">jerry: i don't have to wait.\n",
        ">\n",
        ">kramer:(to the sales table)\n",
        ">\n",
        ">elaine:(to jerry) hey, look at this, i'm a good doctor.\n",
        ">\n",
        ">newman:(to elaine) you think i have no idea of this...\n",
        ">\n",
        ">elaine: oh, you better take the phone, and he was a little nervous.\n",
        ">\n",
        ">kramer:(to the phone) hey, hey, jerry, i don't want to be a little bit.(to kramer and jerry) you can't.\n",
        ">\n",
        ">jerry: oh, yeah. i don't even know, i know.\n",
        ">\n",
        ">jerry:(to the phone) oh, i know.\n",
        ">\n",
        ">kramer:(laughing) you know...(to jerry) you don't know.\n",
        "\n",
        "You can see that there are multiple characters that say (somewhat) complete sentences, but it doesn't have to be perfect! It takes quite a while to get good results, and often, you'll have to use a smaller vocabulary (and discard uncommon words), or get more data.  The Seinfeld dataset is about 3.4 MB, which is big enough for our purposes; for script generation you'll want more than 1 MB of text, generally. \n",
        "\n",
        "# Submitting This Project\n",
        "When submitting this project, make sure to run all the cells before saving the notebook. Save the notebook file as \"dlnd_tv_script_generation.ipynb\" and save another copy as an HTML file by clicking \"File\" -> \"Download as..\"->\"html\". Include the \"helper.py\" and \"problem_unittests.py\" files in your submission. Once you download these files, compress them into one zip file for submission."
      ]
    },
    {
      "metadata": {
        "id": "ihyxg_g20WeT",
        "colab_type": "code",
        "colab": {}
      },
      "cell_type": "code",
      "source": [
        ""
      ],
      "execution_count": 0,
      "outputs": []
    }
  ]
}